{
 "cells": [
  {
   "cell_type": "markdown",
   "id": "18165e5e-402a-4998-8ad4-b71708da8056",
   "metadata": {},
   "source": [
    "# L8b: Introduction to Heat Integration and Heat Exchanger Networks\n",
    "\n",
    "___\n",
    "In this lecture, we'll introduce heat exchanger networks and the concept of heat integration. The key concepts for today are:\n",
    "* __Heat integration__, also known as process integration or _pinch analysis_, is a methodology used in chemical process design to _minimize energy consumption_ by optimizing heat recovery between process streams. This technique involves analyzing the thermal energy flows within a process, identifying opportunities for heat exchange between hot and cold streams, and designing heat exchanger networks to achieve thermodynamically feasible energy targets, ultimately reducing utility costs and improving overall process efficiency\n",
    "* __Heat exchanger networks__ are interconnected heat exchangers facilitating thermal energy transfer between process streams. They aim to maximize heat integration and reduce overall operating costs. Thus, heat exchanger networks are one mechanism for lowering the operating costs of your process (by lowering utility costs).\n",
    "* __Method__: The MUMNE (Minimum Utility, Minimum Number of Exchangers) method in pinch analysis is a two-stage optimization approach that first minimizes utility consumption by maximizing heat recovery between process streams, then reduces capital costs by minimizing the number of heat exchangers required in the network.\n",
    "\n",
    "Materials for this lecture are linked below.\n",
    "___"
   ]
  },
  {
   "cell_type": "markdown",
   "id": "35ae6268-bd14-4694-ad88-c1f9da21c693",
   "metadata": {},
   "source": [
    "## Introduction\n",
    "The ultimate objective of heat integration is to lower operating costs by minimizing utility needs. As we understand it today, heat integration was developed as part of the MSc (ETH Zurich, 1972) and PhD thesis of Bodo Linnhoff (University of Leeds, 1979). Linnhoof later Started Linnhof March consultancy in 1983, which was later sold to [KBC Advanced Technologies in 2002](https://www.kbc.global).\n",
    "\n",
    "Some initial resources (more listed below):\n",
    "* After digging on the web, [I found a technical whitepaper explaining (in detail) Pinch Analysis and its applications from Linnhoff March](https://github.com/varnerlab/CHEME-4620-HeatIntegration-S2025/blob/main/docs/Introduction-to-Pinch-Technology-LinhoffMarch.pdf). This could be a handy reference for your current heat integration efforts and potentially in the future.\n",
    "* A previous 2024 lecture from [Prof. Simon Coulson](https://www.linkedin.com/in/simon-coulson-b8bb9b12/?originalSubdomain=th) on heat integration is also available for download [here](https://github.com/varnerlab/CHEME-4620-HeatIntegration-S2025/blob/main/docs/CHEME-4620-Pinch-Technology-ProfCoulson-2024.pdf).\n",
    "\n",
    "There are several ways we can explore this problem. Today, we'll consider the MUMNE (Minimum Utility, Minimum Number of Exchangers) method."
   ]
  },
  {
   "cell_type": "markdown",
   "id": "b560609c",
   "metadata": {},
   "source": [
    "## MUMNE Method\n",
    "The MUMNE (Minimum Utility, Minimum Number of Exchangers) method is a two-stage optimization approach used in pinch analysis to minimize utility consumption and capital costs in heat exchanger network design. The MUMNE method consists of the following steps:\n",
    "\n",
    "__Prerequisite__: Your process graph must already be optimized, e.g., the units, flow rates, and operating temperatures of the process streams must be known _before_ you can perform heat integration. Heat integration before process optimization introduces tight coupling, significantly complicating your optimization efforts. Thus, heat integration calculations are near the end of your process design problem.\n",
    "\n",
    "### Algorithm\n",
    "1. __Choose a minimum approach temperature__: Choose a minimum approach temperature $\\Delta{T}_{\\text{min}}$ (units: temperature) for the heat exchanger network. The minimum approach temperature in pinch analysis is the smallest allowable temperature difference between hot and cold streams at the point of closest approach in a heat exchanger network. \n",
    "    - $\\Delta{T}_{\\text{min}}$ balances energy efficiency and capital costs. Lower $\\Delta{T}_{\\text{min}}$ values reduce utility consumption but require larger heat exchangers (leading to increased capital costs). For petrochemical/chemical processes, $\\Delta{T}_{\\text{min}}$ is typically set between 10-20°C.\n",
    "2. __Build a stream table__: Determine which streams need to be heated or cooled by constructing a stream table with the columns: $\\dot{m}\\times{C}_{p}$ (mass flow rate times the specific heat capacity), $T_{\\text{in}}$ (inlet temperature), $T_{\\text{out}}$ (outlet temperature) and the heat flow $\\dot{Q}$ for each stream.\n",
    "3. __Temperature interval diagram__: Construct a Temperature Interval Diagram (TID) to visualize the temperature profiles of the hot and cold streams in the process. \n",
    "    A Temperature Interval Diagram (TID) is a visual tool in pinch analysis that organizes process streams into discrete temperature intervals to calculate heat transfer potential and systematically identify energy recovery targets. It forms the basis for determining the minimum heating/cooling utility requirements and locating the pinch point.\n",
    "4. __Cascade Diagram__: In pinch analysis, a cascade diagram is a graphical tool used to systematically determine a process's minimum heating and cooling utility requirements while identifying the pinch point — the temperature constraint limiting heat recovery. It visualizes how heat cascades through temperature intervals derived from a Temperature Interval Diagram (TID), revealing deficits necessitating external utilities.\n",
    "5. __Optimal arrangement__: Determine the _best_ arrangement of heat exchangers to minimize the number of exchangers required in the network. In general, this can be recast and solved as a [nonlinear resource allocation problem.](https://github.com/varnerlab/CHEME-4620-HeatIntegration-S2025/blob/main/docs/Designing-Heat-Exchanger-Networks-for-Existing-Chemical-Plants-Doldan-1985.pdf)"
   ]
  },
  {
   "cell_type": "markdown",
   "id": "e23f8e7c",
   "metadata": {},
   "source": [
    "## Video lectures explaining the MUMNE Method\n",
    "1. Selecting a minimum approach temperature (5 min): [Video Part 1/5](https://youtu.be/bFzlWPLXt3E?si=__WX_mIFEBkN3pYS).\n",
    "2. Stream selection (5 min): [Video Part 2/5](https://youtu.be/OMxkNCmL-jA?si=sy22ju6m84AHfFjw)\n",
    "3. Constructing a Temperature Interval Diagram (6 min): [Video Part 3/5](https://youtu.be/Ms25-vAvsBk?si=2LothTWTKOhddful)\n",
    "4. Constructing a Cascade Diagram (8 min): [Video Part 4/5](https://youtu.be/SQUZCP6mmwk?si=pyXbIHKA72m0C_tz)\n",
    "5. Determining the _best_ arrangement for heat exchangers (26 min): [Video Part 5/5](https://youtu.be/DV4xfsBUIQs?si=cyVB6SdGN-FV9OrJ)\n",
    "\n",
    "In addition to these lectures, which discuss the five steps (excluding optimization) of heat integration, several other example problems have been solved, with walkthroughs available online. For example, from the [LearnCheme process design channel](https://learncheme.com):\n",
    "* There are two video walkthroughs of [the temperature interval method for heat exchanger networks](https://www.youtube.com/watch?v=7PpysQMD0WE) and [designing a heat exchanger network](https://www.youtube.com/watch?v=xZO2aSiakuw). A follow-up video also works out a similar example problem [here](https://www.youtube.com/watch?v=ckeE28_uFoM)."
   ]
  },
  {
   "cell_type": "markdown",
   "id": "7a7b0360-3037-4876-b40d-03f1b9fecc38",
   "metadata": {},
   "source": [
    "## Limitations\n",
    "Pinch analysis has notable limitations:\n",
    "* __Neglects Practical Operational Constraints__: This approach focuses on thermodynamics but often overlooks real-world factors like fouling, corrosion, hydraulic limitations, and fractionation efficiency. This can lead to theoretically optimal but operationally impractical designs, especially in complex systems like crude oil refining. Heat integration also introduces coupling, which can complicate operation, especially during startup and shutdown.\n",
    "* __Simplistic Assumptions on Heat Transfer Coefficients__: Traditional methods assume uniform heat transfer coefficients across streams, leading to suboptimal network designs when coefficients vary significantly. Modern approaches (e.g., [Pinch Analysis 2.0](https://www.uptimeai.com/resources/pinch-analysis-2-0/)) address this with crisscross optimization but add complexity.\n",
    "* __Inaccurate Capital Cost Predictions__: This method relies on fixed \"area efficiency\" factors, which can miscalculate heat exchanger costs. Retrofit designs may require unrealistic stream splitting/merging and inflating equipment counts and costs.\n",
    "* __Limited Scope for Simple or Constrained Systems__: Less effective for small networks or processes with rigid temperature/pressure constraints. The energy-cost tradeoff curve driven by $\\Delta{T}_{\\text{min}}$ is often flat, making optimal solutions ambiguous."
   ]
  },
  {
   "cell_type": "markdown",
   "id": "e93a0eb2",
   "metadata": {},
   "source": [
    "# Today?\n",
    "That's a wrap! What are some of the interesting things we discussed today?"
   ]
  }
 ],
 "metadata": {
  "kernelspec": {
   "display_name": "Julia 1.11.4",
   "language": "julia",
   "name": "julia-1.11"
  },
  "language_info": {
   "file_extension": ".jl",
   "mimetype": "application/julia",
   "name": "julia",
   "version": "1.11.4"
  }
 },
 "nbformat": 4,
 "nbformat_minor": 5
}
