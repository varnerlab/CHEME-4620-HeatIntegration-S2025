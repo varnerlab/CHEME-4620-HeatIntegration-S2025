{
 "cells": [
  {
   "cell_type": "markdown",
   "id": "18165e5e-402a-4998-8ad4-b71708da8056",
   "metadata": {},
   "source": [
    "# L8b: Introduction to Heat Integration and Heat Exchanger Networks\n",
    "In this lecture, we'll introduce heat exchanger networks and the concept of heat integration. The key concepts for today are:\n",
    "* __Heat integration__, also known as process integration or _pinch analysis_, is a methodology used in chemical process design to _minimize energy consumption_ by optimizing heat recovery between process streams. This technique involves analyzing the thermal energy flows within a process, identifying opportunities for heat exchange between hot and cold streams, and designing heat exchanger networks to achieve thermodynamically feasible energy targets, ultimately reducing utility costs and improving overall process efficiency\n",
    "* __Heat exchanger networks__ are interconnected heat exchangers facilitating thermal energy transfer between process streams. They aim to maximize heat integration and reduce overall operating costs. Thus, heat exchanger networks are one mechanism for lowering the operating costs of your process (by lowering utility costs).\n",
    "* __Method__: The MUMNE (Minimum Utility, Minimum Number of Exchangers) method in pinch analysis is a two-stage optimization approach that first minimizes utility consumption by maximizing heat recovery between process streams, then reduces capital costs by minimizing the number of heat exchangers required in the network."
   ]
  },
  {
   "cell_type": "markdown",
   "id": "35ae6268-bd14-4694-ad88-c1f9da21c693",
   "metadata": {},
   "source": [
    "## Introduction\n",
    "Heat integration as we undertsand it today was developed as part of the PhD thesis of Bodo Linnhoff in 1977 at the University of Leeds. Linnhoof later Started Linnhof March consultancy in 1983 which was later sold to [KBC Advanced Technologies in 2002](https://www.kbc.global).\n",
    "* After some digging on the web, I found a technical whitepaper explaning (in detail) Pinch Analysis and its applications from Linnhoff March. [The paper is available here](https://github.com/varnerlab/CHEME-4620-HeatIntegration-S2025/blob/main/docs/Introduction-to-Pinch-Technology-LinhoffMarch.pdf). This will be a handy reference for your heat integration efforts on your deisgn.\n",
    "* A previus 2024 lectue from Prof. Simon Coulson on heat integration is also available for download [here](https://github.com/varnerlab/CHEME-4620-HeatIntegration-S2025/blob/main/docs/CHEME-4620-Pinch-Technology-ProfCoulson-2024.pdf).\n"
   ]
  },
  {
   "cell_type": "markdown",
   "id": "b560609c",
   "metadata": {},
   "source": [
    "## MUMNE Method\n",
    "The MUMNE (Minimum Utility, Minimum Number of Exchangers) method is a two-stage optimization approach used in pinch analysis to minimize utility consumption and capital costs in heat exchanger network design. The MUMNE method consists of the following steps:\n",
    "\n",
    "__Precursor__: Your process must be optimized, e.g., the flowrates and temperatures of the process streams must be known _before_ you can perform heat integration. Doing heat integration before process optimization is a bad idea.\n",
    "\n",
    "__Algorithm__:\n",
    "1. Choose a minimum approach temperature $\\Delta{T}_{\\text{min}}$ (units: temperature) for the heat exchanger network. The minimum approach temperature in pinch analysis is the smallest allowable temperature difference between hot and cold streams at the point of closest approach in a heat exchanger network. \n",
    "    - $\\Delta{T}_{\\text{min}}$ balances energy efficiency and capital costs. Lower $\\Delta{T}_{\\text{min}}$ values reduce utility consumption but requiring larger heat exchangers (leading to increased capital costs). For petrochemical/chemical processes, $\\Delta{T}_{\\text{min}}$ is typically set between 10-20°C.\n",
    "2. Determine which streams need to be heated or cooled by constructing a stream table with the columns: $\\dot{m}$ (mass flow rate), $T_{\\text{in}}$ (inlet temperature), $T_{\\text{out}}$ (outlet temperature), and $C_p$ (specific heat capacity).\n",
    "3. Cosntruct a Temperature Interval Diagram (TID) to visualize the temperature profiles of the hot and cold streams in the process. \n",
    "    - A Temperature Interval Diagram (TID) is a visual tool in pinch analysis that organizes process streams into discrete temperature intervals to systematically calculate heat transfer potential and identify energy recovery targets. It forms the basis for determining the minimum heating/cooling utility requirements and locating the pinch point.\n",
    "4. Construct a Cascade Diagram to determine the pinch points. A cascade diagram in pinch analysis is a graphical tool used to systematically determine the minimum heating and cooling utility requirements of a process while identifying the pinch point—the temperature constraint limiting heat recovery. It visualizes how heat cascades through temperature intervals derived from a Temperature Interval Diagram (TID), revealing deficits that necessitate external utilities.\n",
    "5. Determine the _best_ arrangement of heat exchangers to minimize the number of exchangers required in the network. In general, this can be recact as a combinatorial optimization problem, or solved using a heuristic algorithm."
   ]
  },
  {
   "cell_type": "markdown",
   "id": "e23f8e7c",
   "metadata": {},
   "source": [
    "## Video Lectures explaining each step of the MUMNE Method\n",
    "1. Selecting a minimum approach temperature: [Video Part 1/5](https://youtu.be/bFzlWPLXt3E?si=__WX_mIFEBkN3pYS).\n",
    "2. Stream selection: [Video Part 2/5](https://youtu.be/OMxkNCmL-jA?si=sy22ju6m84AHfFjw)\n",
    "3. Constructing a Temperature Interval Diagram: [Video Part 3/5](https://youtu.be/Ms25-vAvsBk?si=2LothTWTKOhddful)\n",
    "4. Constructing a Cascade Diagram: [Video Part 4/5](https://youtu.be/SQUZCP6mmwk?si=pyXbIHKA72m0C_tz)\n",
    "5. Determining the _best_ arrangment for heat exchangers: [Video Part 5/5](https://youtu.be/DV4xfsBUIQs?si=cyVB6SdGN-FV9OrJ)\n",
    "\n",
    "In addition to tgese lectures which discuss the five steps (excluding optimization) of heat integration, there are several other example problems that have been solved, with walkthroughs avalible online. For example, from the [LearnCheme process design channel](https://learncheme.com):\n",
    "* There are two video walkthroughs of [the temperature interval method for heat exchanger networks](https://www.youtube.com/watch?v=7PpysQMD0WE) and [designing a heat exchanger network](https://www.youtube.com/watch?v=xZO2aSiakuw). The is also a follow-up video further working out an example problem [here](https://www.youtube.com/watch?v=ckeE28_uFoM).\n",
    "\n"
   ]
  },
  {
   "cell_type": "markdown",
   "id": "e93a0eb2",
   "metadata": {},
   "source": [
    "# Today?\n",
    "That's a wrap! What are some of the interesting things we discussed today?"
   ]
  },
  {
   "cell_type": "markdown",
   "id": "998a3a36",
   "metadata": {},
   "source": []
  }
 ],
 "metadata": {
  "kernelspec": {
   "display_name": "Julia 1.11.4",
   "language": "julia",
   "name": "julia-1.11"
  },
  "language_info": {
   "file_extension": ".jl",
   "mimetype": "application/julia",
   "name": "julia",
   "version": "1.11.4"
  }
 },
 "nbformat": 4,
 "nbformat_minor": 5
}
