{
 "cells": [
  {
   "cell_type": "markdown",
   "id": "18165e5e-402a-4998-8ad4-b71708da8056",
   "metadata": {},
   "source": [
    "# L8b: Introduction to Heat Integration and Heat Exchanger Networks\n",
    "In this lecture, we'll introduce heat exchanger networks and the concept of heat integration. The key concepts for today are:\n",
    "* __Heat integration__, also known as process integration or _pinch analysis_, is a methodology used in chemical process design to _minimize energy consumption_ by optimizing heat recovery between process streams. This technique involves analyzing the thermal energy flows within a process, identifying opportunities for heat exchange between hot and cold streams, and designing heat exchanger networks to achieve thermodynamically feasible energy targets, ultimately reducing utility costs and improving overall process efficiency\n",
    "* __Heat exchanger networks__ are interconnected heat exchangers facilitating thermal energy transfer between process streams. They aim to maximize heat integration and reduce overall operating costs. Thus, heat exchanger networks are one mechanism for lowering the operating costs of your process (by lowering utility costs).\n",
    "* __Method__: The MUMNE (Minimum Utility, Minimum Number of Exchangers) method in pinch analysis is a two-stage optimization approach that first minimizes utility consumption by maximizing heat recovery between process streams, then reduces capital costs by minimizing the number of heat exchangers required in the network."
   ]
  },
  {
   "cell_type": "markdown",
   "id": "35ae6268-bd14-4694-ad88-c1f9da21c693",
   "metadata": {},
   "source": [
    "## Introduction\n",
    "Heat integration as we undertsand it today was developed as part of the PhD thesis of Bodo Linnhoff in 1977 at the University of Leeds. Linnhoof later Started Linnhof March consultancy in 1983 which was sold to [KBC Advanced Technologies in 2002](https://www.kbc.global).\n",
    "* After some digging on the web, I found a technical whitepaper explaning (in detail) Pinch Analysis and its applications. [The paper is available here](https://github.com/varnerlab/CHEME-4620-HeatIntegration-S2025/blob/main/docs/Introduction-to-Pinch-Technology-LinhoffMarch.pdf). This will be a handy reference for your heat integration efforts on your deisgn.\n",
    "* A previus 2024 lectue from Prof. Simon Coulson on heat integration is also for download [here]().\n",
    "\n"
   ]
  },
  {
   "cell_type": "markdown",
   "id": "e93a0eb2",
   "metadata": {},
   "source": []
  }
 ],
 "metadata": {
  "kernelspec": {
   "display_name": "Julia 1.11.4",
   "language": "julia",
   "name": "julia-1.11"
  },
  "language_info": {
   "file_extension": ".jl",
   "mimetype": "application/julia",
   "name": "julia",
   "version": "1.11.4"
  }
 },
 "nbformat": 4,
 "nbformat_minor": 5
}
